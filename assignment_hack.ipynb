{
 "cells": [
  {
   "cell_type": "code",
   "execution_count": 1,
   "metadata": {},
   "outputs": [],
   "source": [
    "import pandas as pd\n",
    "import numpy as np\n",
    "from sklearn.model_selection import train_test_split\n",
    "from sklearn.preprocessing import OneHotEncoder\n",
    "from sklearn.compose import ColumnTransformer\n",
    "from sklearn.pipeline import Pipeline\n",
    "from sklearn.impute import SimpleImputer\n",
    "from sklearn.naive_bayes import MultinomialNB\n",
    "from sklearn.multioutput import MultiOutputClassifier\n",
    "from sklearn.metrics import roc_auc_score"
   ]
  },
  {
   "cell_type": "code",
   "execution_count": 2,
   "metadata": {},
   "outputs": [
    {
     "name": "stdout",
     "output_type": "stream",
     "text": [
      "       respondent_id  xyz_concern  xyz_knowledge  behavioral_antiviral_meds  \\\n",
      "0                  0          1.0            0.0                        0.0   \n",
      "1                  1          3.0            2.0                        0.0   \n",
      "2                  2          1.0            1.0                        0.0   \n",
      "3                  3          1.0            1.0                        0.0   \n",
      "4                  4          2.0            1.0                        0.0   \n",
      "...              ...          ...            ...                        ...   \n",
      "26702          26702          2.0            0.0                        0.0   \n",
      "26703          26703          1.0            2.0                        0.0   \n",
      "26704          26704          2.0            2.0                        0.0   \n",
      "26705          26705          1.0            1.0                        0.0   \n",
      "26706          26706          0.0            0.0                        0.0   \n",
      "\n",
      "       behavioral_avoidance  behavioral_face_mask  behavioral_wash_hands  \\\n",
      "0                       0.0                   0.0                    0.0   \n",
      "1                       1.0                   0.0                    1.0   \n",
      "2                       1.0                   0.0                    0.0   \n",
      "3                       1.0                   0.0                    1.0   \n",
      "4                       1.0                   0.0                    1.0   \n",
      "...                     ...                   ...                    ...   \n",
      "26702                   1.0                   0.0                    0.0   \n",
      "26703                   1.0                   0.0                    1.0   \n",
      "26704                   1.0                   1.0                    1.0   \n",
      "26705                   0.0                   0.0                    0.0   \n",
      "26706                   1.0                   0.0                    0.0   \n",
      "\n",
      "       behavioral_large_gatherings  behavioral_outside_home  \\\n",
      "0                              0.0                      1.0   \n",
      "1                              0.0                      1.0   \n",
      "2                              0.0                      0.0   \n",
      "3                              1.0                      0.0   \n",
      "4                              1.0                      0.0   \n",
      "...                            ...                      ...   \n",
      "26702                          0.0                      1.0   \n",
      "26703                          0.0                      0.0   \n",
      "26704                          1.0                      0.0   \n",
      "26705                          0.0                      0.0   \n",
      "26706                          0.0                      0.0   \n",
      "\n",
      "       behavioral_touch_face  ...             income_poverty  marital_status  \\\n",
      "0                        1.0  ...              Below Poverty     Not Married   \n",
      "1                        1.0  ...              Below Poverty     Not Married   \n",
      "2                        0.0  ...  <= $75,000, Above Poverty     Not Married   \n",
      "3                        0.0  ...              Below Poverty     Not Married   \n",
      "4                        1.0  ...  <= $75,000, Above Poverty         Married   \n",
      "...                      ...  ...                        ...             ...   \n",
      "26702                    0.0  ...  <= $75,000, Above Poverty     Not Married   \n",
      "26703                    0.0  ...  <= $75,000, Above Poverty     Not Married   \n",
      "26704                    1.0  ...                        NaN     Not Married   \n",
      "26705                    NaN  ...  <= $75,000, Above Poverty         Married   \n",
      "26706                    0.0  ...  <= $75,000, Above Poverty         Married   \n",
      "\n",
      "       rent_or_own   employment_status  hhs_geo_region  \\\n",
      "0              Own  Not in Labor Force        oxchjgsf   \n",
      "1             Rent            Employed        bhuqouqj   \n",
      "2              Own            Employed        qufhixun   \n",
      "3             Rent  Not in Labor Force        lrircsnp   \n",
      "4              Own            Employed        qufhixun   \n",
      "...            ...                 ...             ...   \n",
      "26702          Own  Not in Labor Force        qufhixun   \n",
      "26703         Rent            Employed        lzgpxyit   \n",
      "26704          Own                 NaN        lzgpxyit   \n",
      "26705         Rent            Employed        lrircsnp   \n",
      "26706          Own  Not in Labor Force        mlyzmhmf   \n",
      "\n",
      "                     census_msa  household_adults  household_children  \\\n",
      "0                       Non-MSA               0.0                 0.0   \n",
      "1      MSA, Not Principle  City               0.0                 0.0   \n",
      "2      MSA, Not Principle  City               2.0                 0.0   \n",
      "3           MSA, Principle City               0.0                 0.0   \n",
      "4      MSA, Not Principle  City               1.0                 0.0   \n",
      "...                         ...               ...                 ...   \n",
      "26702                   Non-MSA               0.0                 0.0   \n",
      "26703       MSA, Principle City               1.0                 0.0   \n",
      "26704  MSA, Not Principle  City               0.0                 0.0   \n",
      "26705                   Non-MSA               1.0                 0.0   \n",
      "26706       MSA, Principle City               1.0                 0.0   \n",
      "\n",
      "       employment_industry  employment_occupation  \n",
      "0                      NaN                    NaN  \n",
      "1                 pxcmvdjn               xgwztkwe  \n",
      "2                 rucpziij               xtkaffoo  \n",
      "3                      NaN                    NaN  \n",
      "4                 wxleyezf               emcorrxb  \n",
      "...                    ...                    ...  \n",
      "26702                  NaN                    NaN  \n",
      "26703             fcxhlnwr               cmhcxjea  \n",
      "26704                  NaN                    NaN  \n",
      "26705             fcxhlnwr               haliazsg  \n",
      "26706                  NaN                    NaN  \n",
      "\n",
      "[26707 rows x 36 columns]\n"
     ]
    }
   ],
   "source": [
    "# Load data\n",
    "train_features = pd.read_csv('training_set_features.csv')\n",
    "train_labels = pd.read_csv('training_set_labels.csv')\n",
    "test_features = pd.read_csv('test_set_features.csv')\n",
    "print(train_features)\n",
    "\n"
   ]
  },
  {
   "cell_type": "code",
   "execution_count": 3,
   "metadata": {},
   "outputs": [],
   "source": [
    "# Identify categorical features\n",
    "categorical_features = ['age_group', 'education', 'race', 'sex', 'income_poverty', \n",
    "                        'marital_status', 'rent_or_own', 'employment_status', \n",
    "                        'hhs_geo_region', 'census_msa', 'employment_industry', \n",
    "                        'employment_occupation']\n",
    "# Define preprocessors\n",
    "imputer = SimpleImputer(strategy='most_frequent')\n",
    "encoder = OneHotEncoder(handle_unknown='ignore')\n",
    "\n",
    "preprocessor = ColumnTransformer(\n",
    "    transformers=[\n",
    "        ('num', imputer, [col for col in train_features.columns if train_features[col].dtype in ['int64', 'float64'] and col != 'respondent_id']),\n",
    "        ('cat', encoder, categorical_features)\n",
    "    ])"
   ]
  },
  {
   "cell_type": "code",
   "execution_count": 4,
   "metadata": {},
   "outputs": [],
   "source": [
    "# Build the model pipeline\n",
    "model = Pipeline(steps=[\n",
    "    ('preprocessor', preprocessor),\n",
    "    ('classifier', MultiOutputClassifier(MultinomialNB()))\n",
    "])\n",
    "\n",
    "# Prepare training data\n",
    "X_train = train_features.drop(columns=['respondent_id'])\n",
    "y_train = train_labels[['xyz_vaccine', 'seasonal_vaccine']]\n",
    "\n",
    "# Train the model\n",
    "model.fit(X_train, y_train)\n",
    "\n",
    "# Predict on training data for evaluation\n",
    "y_train_pred = model.predict_proba(X_train)\n",
    "y_train_pred_proba = np.hstack([y_train_pred[0][:, 1].reshape(-1, 1), y_train_pred[1][:, 1].reshape(-1, 1)])"
   ]
  },
  {
   "cell_type": "code",
   "execution_count": 5,
   "metadata": {},
   "outputs": [
    {
     "name": "stdout",
     "output_type": "stream",
     "text": [
      "ROC AUC for xyz vaccine: 0.7829674003225139\n",
      "ROC AUC for seasonal vaccine: 0.7918871010420103\n",
      "Mean ROC AUC: 0.7874272506822622\n"
     ]
    }
   ],
   "source": [
    "# Calculate ROC AUC scores\n",
    "roc_auc_xyz = roc_auc_score(y_train['xyz_vaccine'], y_train_pred_proba[:, 0])\n",
    "roc_auc_seasonal = roc_auc_score(y_train['seasonal_vaccine'], y_train_pred_proba[:, 1])\n",
    "mean_roc_auc = np.mean([roc_auc_xyz, roc_auc_seasonal])\n",
    "\n",
    "print(f'ROC AUC for xyz vaccine: {roc_auc_xyz}')\n",
    "print(f'ROC AUC for seasonal vaccine: {roc_auc_seasonal}')\n",
    "print(f'Mean ROC AUC: {mean_roc_auc}')\n"
   ]
  },
  {
   "cell_type": "code",
   "execution_count": 6,
   "metadata": {},
   "outputs": [
    {
     "name": "stdout",
     "output_type": "stream",
     "text": [
      "       respondent_id  xyz_vaccine  seasonal_vaccine\n",
      "0              26707     0.033651          0.077391\n",
      "1              26708     0.015161          0.013234\n",
      "2              26709     0.229374          0.275898\n",
      "3              26710     0.564942          0.978360\n",
      "4              26711     0.211314          0.431995\n",
      "...              ...          ...               ...\n",
      "26703          53410     0.166031          0.349265\n",
      "26704          53411     0.141344          0.049243\n",
      "26705          53412     0.101679          0.265341\n",
      "26706          53413     0.255551          0.750829\n",
      "26707          53414     0.254409          0.462699\n",
      "\n",
      "[26708 rows x 3 columns]\n"
     ]
    }
   ],
   "source": [
    "# Predict on test data\n",
    "X_test = test_features.drop(columns=['respondent_id'])\n",
    "final_predictions = model.predict_proba(X_test)\n",
    "final_pred_proba = np.hstack([final_predictions[0][:, 1].reshape(-1, 1), final_predictions[1][:, 1].reshape(-1, 1)])\n",
    "\n",
    "# Create submission\n",
    "submission = pd.DataFrame({\n",
    "    'respondent_id': test_features['respondent_id'],\n",
    "    'xyz_vaccine': final_pred_proba[:, 0],\n",
    "    'seasonal_vaccine': final_pred_proba[:, 1]\n",
    "})\n",
    "\n",
    "submission.to_csv('submission.csv', index=False)\n",
    "#print(final_pred_proba)\n",
    "print(submission)"
   ]
  }
 ],
 "metadata": {
  "kernelspec": {
   "display_name": "base",
   "language": "python",
   "name": "python3"
  },
  "language_info": {
   "codemirror_mode": {
    "name": "ipython",
    "version": 3
   },
   "file_extension": ".py",
   "mimetype": "text/x-python",
   "name": "python",
   "nbconvert_exporter": "python",
   "pygments_lexer": "ipython3",
   "version": "3.11.3"
  }
 },
 "nbformat": 4,
 "nbformat_minor": 2
}
